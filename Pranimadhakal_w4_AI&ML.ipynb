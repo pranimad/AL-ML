{
 "cells": [
  {
   "cell_type": "code",
   "execution_count": 16,
   "id": "c8f6cd3c-e0c2-4685-9958-668ae5a0591f",
   "metadata": {},
   "outputs": [],
   "source": [
    "import os\n",
    "import numpy as np\n",
    "import tensorflow as tf\n",
    "from tensorflow import keras\n",
    "from tensorflow.keras.models import Sequential\n",
    "from tensorflow.keras.layers import Dense, Flatten\n",
    "from tensorflow.keras.optimizers import Adam\n",
    "from tensorflow.keras.callbacks import ModelCheckpoint, EarlyStopping\n",
    "from PIL import Image\n",
    "from sklearn.model_selection import train_test_split\n",
    "from sklearn.preprocessing import OneHotEncoder\n",
    "import matplotlib.pyplot as plt\n",
    "\n",
    "# Task 1: Data Preparation\n",
    "\n",
    "def load_images_and_labels(root_dir):\n",
    "    images, labels = [], []\n",
    "    label_map = {label: idx for idx, label in enumerate(os.listdir(root_dir))}\n",
    "    \n",
    "    for label in os.listdir(root_dir):\n",
    "        label_dir = os.path.join(root_dir, label)\n",
    "        if os.path.isdir(label_dir):\n",
    "            for image_file in os.listdir(label_dir):\n",
    "                img_path = os.path.join(label_dir, image_file)\n",
    "                img = Image.open(img_path).convert('L').resize((28, 28))\n",
    "                images.append(np.array(img) / 255.0)  # Normalize pixels to range [0,1]\n",
    "                labels.append(label_map[label])\n",
    "    \n",
    "    return np.array(images), np.array(labels)"
   ]
  },
  {
   "cell_type": "code",
   "execution_count": 17,
   "id": "8b1df067-6342-4d21-89d1-82aeb09eed26",
   "metadata": {},
   "outputs": [],
   "source": [
    "# Load training and testing data\n",
    "train_images, train_labels = load_images_and_labels(\"Copy of devnagari digit/DevanagariHandwrittenDigitDataset/Train\")\n",
    "test_images, test_labels = load_images_and_labels(\"Copy of devnagari digit/DevanagariHandwrittenDigitDataset/Test\")\n",
    "\n",
    "# Reshape images to fit neural network input format\n",
    "train_images = train_images.reshape(-1, 28 * 28)\n",
    "test_images = test_images.reshape(-1, 28 * 28)\n",
    "\n",
    "# Convert labels to one-hot encoding\n",
    "encoder = OneHotEncoder(sparse_output=False)\n",
    "train_labels = encoder.fit_transform(train_labels.reshape(-1, 1))\n",
    "test_labels = encoder.transform(test_labels.reshape(-1, 1))"
   ]
  },
  {
   "cell_type": "code",
   "execution_count": 18,
   "id": "29868447-2ef8-4763-be03-f0dfee01336e",
   "metadata": {},
   "outputs": [],
   "source": [
    "# Task 2: Build the FCN Model\n",
    "model = Sequential([\n",
    "    keras.layers.Input(shape=(28 * 28,)),  # Define input layer separately\n",
    "    Dense(64, activation='sigmoid'),\n",
    "    Dense(128, activation='sigmoid'),\n",
    "    Dense(256, activation='sigmoid'),\n",
    "    Dense(10, activation='softmax')\n",
    "])\n"
   ]
  },
  {
   "cell_type": "code",
   "execution_count": 19,
   "id": "56920eb9-be88-4da8-a18a-c07cbbbec830",
   "metadata": {},
   "outputs": [],
   "source": [
    "# Task 3: Compile the Model\n",
    "model.compile(optimizer=Adam(), loss='categorical_crossentropy', metrics=['accuracy'])"
   ]
  },
  {
   "cell_type": "code",
   "execution_count": 20,
   "id": "83b1d4fa-a626-4762-a260-d97d8a110f27",
   "metadata": {},
   "outputs": [
    {
     "name": "stdout",
     "output_type": "stream",
     "text": [
      "Epoch 1/20\n",
      "\u001b[1m 91/107\u001b[0m \u001b[32m━━━━━━━━━━━━━━━━━\u001b[0m\u001b[37m━━━\u001b[0m \u001b[1m0s\u001b[0m 3ms/step - accuracy: 0.2531 - loss: 2.0064"
     ]
    },
    {
     "name": "stderr",
     "output_type": "stream",
     "text": [
      "WARNING:absl:You are saving your model as an HDF5 file via `model.save()` or `keras.saving.save_model(model)`. This file format is considered legacy. We recommend using instead the native Keras format, e.g. `model.save('my_model.keras')` or `keras.saving.save_model(model, 'my_model.keras')`. \n"
     ]
    },
    {
     "name": "stdout",
     "output_type": "stream",
     "text": [
      "\u001b[1m107/107\u001b[0m \u001b[32m━━━━━━━━━━━━━━━━━━━━\u001b[0m\u001b[37m\u001b[0m \u001b[1m2s\u001b[0m 7ms/step - accuracy: 0.2855 - loss: 1.9498 - val_accuracy: 0.0000e+00 - val_loss: 7.5232\n",
      "Epoch 2/20\n",
      "\u001b[1m107/107\u001b[0m \u001b[32m━━━━━━━━━━━━━━━━━━━━\u001b[0m\u001b[37m\u001b[0m \u001b[1m0s\u001b[0m 4ms/step - accuracy: 0.7931 - loss: 0.6348 - val_accuracy: 0.0000e+00 - val_loss: 8.9330\n",
      "Epoch 3/20\n",
      "\u001b[1m107/107\u001b[0m \u001b[32m━━━━━━━━━━━━━━━━━━━━\u001b[0m\u001b[37m\u001b[0m \u001b[1m0s\u001b[0m 4ms/step - accuracy: 0.8681 - loss: 0.3434 - val_accuracy: 0.0000e+00 - val_loss: 9.5297\n",
      "Epoch 4/20\n",
      "\u001b[1m107/107\u001b[0m \u001b[32m━━━━━━━━━━━━━━━━━━━━\u001b[0m\u001b[37m\u001b[0m \u001b[1m1s\u001b[0m 4ms/step - accuracy: 0.9166 - loss: 0.2476 - val_accuracy: 0.0000e+00 - val_loss: 9.8218\n",
      "Epoch 5/20\n",
      "\u001b[1m107/107\u001b[0m \u001b[32m━━━━━━━━━━━━━━━━━━━━\u001b[0m\u001b[37m\u001b[0m \u001b[1m0s\u001b[0m 4ms/step - accuracy: 0.9435 - loss: 0.1830 - val_accuracy: 0.0000e+00 - val_loss: 10.3793\n",
      "Epoch 6/20\n",
      "\u001b[1m107/107\u001b[0m \u001b[32m━━━━━━━━━━━━━━━━━━━━\u001b[0m\u001b[37m\u001b[0m \u001b[1m0s\u001b[0m 4ms/step - accuracy: 0.9593 - loss: 0.1420 - val_accuracy: 0.0000e+00 - val_loss: 10.4555\n"
     ]
    }
   ],
   "source": [
    "# Task 4: Train the Model\n",
    "checkpoint = ModelCheckpoint(\"best_model.h5\", save_best_only=True, monitor='val_loss', mode='min')\n",
    "early_stop = EarlyStopping(monitor='val_loss', patience=5, restore_best_weights=True)\n",
    "\n",
    "history = model.fit(train_images, train_labels, batch_size=128, epochs=20, validation_split=0.2, callbacks=[checkpoint, early_stop])\n"
   ]
  },
  {
   "cell_type": "code",
   "execution_count": 21,
   "id": "94bc755e-183b-4e98-afcd-7d2c7c715733",
   "metadata": {},
   "outputs": [
    {
     "name": "stdout",
     "output_type": "stream",
     "text": [
      "\u001b[1m94/94\u001b[0m \u001b[32m━━━━━━━━━━━━━━━━━━━━\u001b[0m\u001b[37m\u001b[0m \u001b[1m0s\u001b[0m 2ms/step - accuracy: 0.8097 - loss: 0.8708\n",
      "Test Accuracy: 0.6177\n"
     ]
    }
   ],
   "source": [
    "# Task 5: Evaluate the Model\n",
    "test_loss, test_acc = model.evaluate(test_images, test_labels)\n",
    "print(f\"Test Accuracy: {test_acc:.4f}\")"
   ]
  },
  {
   "cell_type": "code",
   "execution_count": 23,
   "id": "abd8ba33-f792-4232-95f4-3954f5fccb20",
   "metadata": {},
   "outputs": [
    {
     "name": "stderr",
     "output_type": "stream",
     "text": [
      "WARNING:absl:You are saving your model as an HDF5 file via `model.save()` or `keras.saving.save_model(model)`. This file format is considered legacy. We recommend using instead the native Keras format, e.g. `model.save('my_model.keras')` or `keras.saving.save_model(model, 'my_model.keras')`. \n",
      "WARNING:absl:Compiled the loaded model, but the compiled metrics have yet to be built. `model.compile_metrics` will be empty until you train or evaluate the model.\n"
     ]
    }
   ],
   "source": [
    "# Task 6: Save and Load the Model\n",
    "model.save(\"devnagari_digit_model.h5\")\n",
    "loaded_model = keras.models.load_model(\"devnagari_digit_model.h5\")\n"
   ]
  },
  {
   "cell_type": "code",
   "execution_count": 24,
   "id": "5d419a71-ffc7-462e-b103-69c479d08525",
   "metadata": {},
   "outputs": [
    {
     "name": "stdout",
     "output_type": "stream",
     "text": [
      "\u001b[1m94/94\u001b[0m \u001b[32m━━━━━━━━━━━━━━━━━━━━\u001b[0m\u001b[37m\u001b[0m \u001b[1m0s\u001b[0m 3ms/step\n"
     ]
    }
   ],
   "source": [
    "# Task 7: Making Predictions\n",
    "predictions = loaded_model.predict(test_images)\n",
    "predicted_labels = np.argmax(predictions, axis=1)"
   ]
  },
  {
   "cell_type": "code",
   "execution_count": 25,
   "id": "c292fdfb-f3af-49a6-aeb5-7ae1664133a7",
   "metadata": {},
   "outputs": [
    {
     "data": {
      "image/png": "[encoded data removed]",
      "text/plain": [
       "<Figure size 1200x500 with 2 Axes>"
      ]
     },
     "metadata": {},
     "output_type": "display_data"
    }
   ],
   "source": [
    "# Plot training history\n",
    "plt.figure(figsize=(12, 5))\n",
    "plt.subplot(1, 2, 1)\n",
    "plt.plot(history.history['accuracy'], label='Train Accuracy')\n",
    "plt.plot(history.history['val_accuracy'], label='Validation Accuracy')\n",
    "plt.xlabel('Epochs')\n",
    "plt.ylabel('Accuracy')\n",
    "plt.legend()\n",
    "plt.subplot(1, 2, 2)\n",
    "plt.plot(history.history['loss'], label='Train Loss')\n",
    "plt.plot(history.history['val_loss'], label='Validation Loss')\n",
    "plt.xlabel('Epochs')\n",
    "plt.ylabel('Loss')\n",
    "plt.legend()\n",
    "plt.show()\n"
   ]
  }
 ],
 "metadata": {
  "kernelspec": {
   "display_name": "Python 3 (ipykernel)",
   "language": "python",
   "name": "python3"
  },
  "language_info": {
   "codemirror_mode": {
    "name": "ipython",
    "version": 3
   },
   "file_extension": ".py",
   "mimetype": "text/x-python",
   "name": "python",
   "nbconvert_exporter": "python",
   "pygments_lexer": "ipython3",
   "version": "3.12.9"
  }
 },
 "nbformat": 4,
 "nbformat_minor": 5
}
